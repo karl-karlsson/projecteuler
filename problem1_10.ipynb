{
  "nbformat": 4,
  "nbformat_minor": 0,
  "metadata": {
    "colab": {
      "name": "problem1_10.ipynb",
      "provenance": [],
      "toc_visible": true,
      "authorship_tag": "ABX9TyMMUdagaOo/8V01zoPNx5SQ",
      "include_colab_link": true
    },
    "kernelspec": {
      "name": "python3",
      "display_name": "Python 3"
    },
    "language_info": {
      "name": "python"
    }
  },
  "cells": [
    {
      "cell_type": "markdown",
      "metadata": {
        "id": "view-in-github",
        "colab_type": "text"
      },
      "source": [
        "<a href=\"https://colab.research.google.com/github/karl-karlsson/projecteuler/blob/main/problem1_10.ipynb\" target=\"_parent\"><img src=\"https://colab.research.google.com/assets/colab-badge.svg\" alt=\"Open In Colab\"/></a>"
      ]
    },
    {
      "cell_type": "markdown",
      "source": [
        "-----\n",
        "You can open a copy of this notebook in Google Colab by clicking the icon above\n",
        "\n",
        "This is a notebook where i keep solutions to Project Euler problems.\n"
      ],
      "metadata": {
        "id": "sxHrkU-uZAN7"
      }
    },
    {
      "cell_type": "markdown",
      "source": [
        "# 1. Multiples of 3 or 5 ([Link](https://projecteuler.net/problem=1))\n",
        "![](https://img.shields.io/badge/Problem-Solved-Green)\n",
        "\n",
        "If we list all the natural numbers below 10 that are multiples of 3 or 5, we get 3, 5, 6 and 9. The sum of these multiples is 23.\n",
        "Find the sum of all the multiples of 3 or 5 below 1000.\n",
        "\n",
        "\n"
      ],
      "metadata": {
        "id": "NenSiY0jKrOu"
      }
    },
    {
      "cell_type": "code",
      "source": [
        "# Write a function to give solution\n",
        "def problem1(value) :\n",
        "  all_values = []\n",
        "  for number in range(value) :\n",
        "    if number % 3 == 0 or number % 5 == 0 :\n",
        "      all_values.append(number)\n",
        "  return(sum(all_values)) \n",
        "\n",
        "\n",
        "# Test on numbers below 10 (should be 23)\n",
        "print(\"The sum of all natural numbers below 10 is = \",problem1(10))\n",
        "\n",
        "# Test on numbers below 1000\n",
        "print(\"The sum of all natural numbers below 1000 is = \",problem1(1000))"
      ],
      "metadata": {
        "colab": {
          "base_uri": "https://localhost:8080/"
        },
        "id": "f78bpwh-K-RX",
        "outputId": "94afe403-240d-41cc-bc27-ee9340cb5a56"
      },
      "execution_count": null,
      "outputs": [
        {
          "output_type": "stream",
          "name": "stdout",
          "text": [
            "The sum of all natural numbers below 10 is =  23\n",
            "The sum of all natural numbers below 1000 is =  233168\n"
          ]
        }
      ]
    },
    {
      "cell_type": "code",
      "source": [
        "# Plot \n",
        "import matplotlib.pyplot as plt\n",
        "\n",
        "x = [x for x in range(0, 1001, 50)]\n",
        "y = []\n",
        "\n",
        "for value in x :\n",
        "  y.append(problem1(value))\n",
        "  \n",
        "fig, ax = plt.subplots()\n",
        "ax.plot(x, y)\n",
        "plt.show()\n"
      ],
      "metadata": {
        "colab": {
          "base_uri": "https://localhost:8080/",
          "height": 265
        },
        "id": "JeLUmnK4_M-o",
        "outputId": "5b4a6ad0-58fe-4112-99f8-b239038b6a65"
      },
      "execution_count": null,
      "outputs": [
        {
          "output_type": "display_data",
          "data": {
            "text/plain": [
              "<Figure size 432x288 with 1 Axes>"
            ],
            "image/png": "[encoded data removed]"
          },
          "metadata": {
            "needs_background": "light"
          }
        }
      ]
    },
    {
      "cell_type": "code",
      "source": [
        ""
      ],
      "metadata": {
        "id": "luaQ8WciumVM"
      },
      "execution_count": null,
      "outputs": []
    },
    {
      "cell_type": "markdown",
      "source": [
        "# 2. Even Fibonacci numbers ([link](https://projecteuler.net/problem=2))\n",
        "![](https://img.shields.io/badge/Problem-Solved-Green)\n",
        "\n",
        "Each new term in the Fibonacci sequence is generated by adding the previous two terms. By starting with 1 and 2, the first 10 terms will be:\n",
        "\n",
        "1, 2, 3, 5, 8, 13, 21, 34, 55, 89, ...\n",
        "\n",
        "By considering the terms in the Fibonacci sequence whose values do not exceed four million, find the sum of the even-valued terms.\n",
        "\n"
      ],
      "metadata": {
        "id": "A45OQdS5QXKK"
      }
    },
    {
      "cell_type": "code",
      "source": [
        "# Write function\n",
        "\n",
        "def problem2(max_value_allowed) :\n",
        "  values = [1,2]\n",
        "  max_value = values[-1]\n",
        "\n",
        "  while max_value <= max_value_allowed :\n",
        "    values.append(values[-2] + values[-1])\n",
        "    max_value = values[-1]\n",
        "  \n",
        "  for i in range(0,len(values)) :\n",
        "    if values[i] % 2 != 0 :\n",
        "      values[i] = 0\n",
        "  return(sum(values))\n",
        "\n",
        "# Solution\n",
        "print(\"The solution is\", problem2(4000000))"
      ],
      "metadata": {
        "colab": {
          "base_uri": "https://localhost:8080/"
        },
        "id": "LZo7vkidR4D_",
        "outputId": "65c2da96-3c54-4d89-e0ae-a5914a98fc83"
      },
      "execution_count": null,
      "outputs": [
        {
          "output_type": "stream",
          "name": "stdout",
          "text": [
            "The solution is 4613732\n"
          ]
        }
      ]
    },
    {
      "cell_type": "code",
      "source": [
        "x = [x for x in range(0, 8000000, 50000)]\n",
        "y = []\n",
        "\n",
        "for value in x :\n",
        "  y.append(problem2(value))\n",
        "  \n",
        "fig, ax = plt.subplots()\n",
        "ax.plot(x, y)\n",
        "plt.show()"
      ],
      "metadata": {
        "colab": {
          "base_uri": "https://localhost:8080/",
          "height": 289
        },
        "id": "VJ3SV84hBkew",
        "outputId": "a859725e-cb88-4d82-acd4-aa1133a471c4"
      },
      "execution_count": null,
      "outputs": [
        {
          "output_type": "display_data",
          "data": {
            "text/plain": [
              "<Figure size 432x288 with 1 Axes>"
            ],
            "image/png": "[encoded data removed]"
          },
          "metadata": {
            "needs_background": "light"
          }
        }
      ]
    },
    {
      "cell_type": "markdown",
      "source": [
        "# 3. Largest prime factor ([link](https://projecteuler.net/problem=3))\n",
        "\n",
        "![](https://img.shields.io/badge/Problem-Not%20solved-red)\n",
        "\n",
        "The prime factors of 13195 are 5, 7, 13 and 29.\n",
        "\n",
        "What is the largest prime factor of the number 600851475143 ?"
      ],
      "metadata": {
        "id": "inntp_GwX6a_"
      }
    },
    {
      "cell_type": "code",
      "source": [
        "# Write a function that finds all prime numbers in a list of numbers 2:some_number\n",
        "def find_prime(a_number) :\n",
        "  largest_number = a_number\n",
        "  a_list = list(range(2,int(largest_number/2)+1))\n",
        "  a_list.sort(reverse=True)\n",
        "  for denominator in a_list :\n",
        "    if largest_number % denominator == 0 :\n",
        "      temp = largest_number / denominator\n",
        "      largest_number = largest_number / temp\n",
        "      a_list = list(range(2,int(largest_number/2)+1))\n",
        "      a_list.sort(reverse=True)\n",
        "      continue\n",
        "    elif largest_number != denominator and largest_number % denominator != 0 :\n",
        "      continue\n",
        "    else :\n",
        "      temp = largest_number / denominator\n",
        "      largest_number = largest_number / temp\n",
        "  return int(largest_number)\n",
        "\n",
        "# Largest prime factor for 13195 (should be 29)\n",
        "print(\"Largest prime factor for 13195 is\",find_prime(13195))\n",
        "\n",
        "\n",
        "\n",
        "\n",
        "\n",
        "\n"
      ],
      "metadata": {
        "colab": {
          "base_uri": "https://localhost:8080/"
        },
        "id": "xZGYLbTY5Fda",
        "outputId": "896fdd9e-5585-4e7b-8e04-c686b0643676"
      },
      "execution_count": null,
      "outputs": [
        {
          "output_type": "stream",
          "name": "stdout",
          "text": [
            "Largest prime factor for 13195 is 29\n"
          ]
        }
      ]
    },
    {
      "cell_type": "markdown",
      "source": [
        "The solution above was the first i wrote. And it works. Works for small numbers that is. It runs out of RAM when attempting to do `find_prime(600851475143)`.\n",
        "\n",
        "I need to simplify somehow but none of my possible solutions so far have worked out."
      ],
      "metadata": {
        "id": "_mFVoSa5LzOu"
      }
    },
    {
      "cell_type": "markdown",
      "source": [
        "# 4. Largest palindrome product ([link](https://projecteuler.net/problem=4))\n",
        "\n",
        "A palindromic number reads the same both ways. The largest palindrome made from the product of two 2-digit numbers is 9009 = 91 × 99.\n",
        "\n",
        "Find the largest palindrome made from the product of two 3-digit numbers."
      ],
      "metadata": {
        "id": "Pm8EMu9xuSsp"
      }
    },
    {
      "cell_type": "code",
      "source": [
        "# TBD"
      ],
      "metadata": {
        "id": "NSQuVP8lugc8"
      },
      "execution_count": null,
      "outputs": []
    }
  ]
}